{
 "cells": [
  {
   "cell_type": "code",
   "execution_count": 1,
   "metadata": {},
   "outputs": [],
   "source": [
    "import os\n",
    "import torch\n",
    "import random\n",
    "import warnings\n",
    "\n",
    "import numpy as np\n",
    "import pandas as pd\n",
    "import torch.backends.cudnn as cudnn\n",
    "import segmentation_models_pytorch as smp\n",
    "\n",
    "from tqdm import tqdm\n",
    "from minetorch.metrics import confusion_matrix\n",
    "from torch.utils.data import DataLoader\n",
    "from sklearn.model_selection import train_test_split\n",
    "from utils import *\n",
    "from torch.optim.lr_scheduler import ReduceLROnPlateau, CosineAnnealingLR\n",
    "from efficientnet_pytorch.model import EfficientNet\n",
    "import torchvision.models as models\n",
    "\n",
    "warnings.filterwarnings(\"ignore\")\n",
    "seed = 99\n",
    "random.seed(seed)\n",
    "os.environ[\"PYTHONHASHSEED\"] = str(seed)\n",
    "np.random.seed(seed)\n",
    "torch.cuda.manual_seed(seed)\n",
    "torch.backends.cudnn.deterministic = True\n",
    "torch.set_default_tensor_type(\"torch.FloatTensor\")\n",
    "cudnn.benchmark = True"
   ]
  },
  {
   "cell_type": "code",
   "execution_count": 2,
   "metadata": {},
   "outputs": [],
   "source": [
    "test_df = pd.read_csv('stage_2_sample_submission.csv')\n",
    "test_dir = './stage2/test512/'"
   ]
  },
  {
   "cell_type": "code",
   "execution_count": 3,
   "metadata": {},
   "outputs": [
    {
     "data": {
      "text/html": [
       "<div>\n",
       "<style scoped>\n",
       "    .dataframe tbody tr th:only-of-type {\n",
       "        vertical-align: middle;\n",
       "    }\n",
       "\n",
       "    .dataframe tbody tr th {\n",
       "        vertical-align: top;\n",
       "    }\n",
       "\n",
       "    .dataframe thead th {\n",
       "        text-align: right;\n",
       "    }\n",
       "</style>\n",
       "<table border=\"1\" class=\"dataframe\">\n",
       "  <thead>\n",
       "    <tr style=\"text-align: right;\">\n",
       "      <th></th>\n",
       "      <th>ID</th>\n",
       "      <th>Label</th>\n",
       "    </tr>\n",
       "  </thead>\n",
       "  <tbody>\n",
       "    <tr>\n",
       "      <td>0</td>\n",
       "      <td>ID_0fbf6a978_epidural</td>\n",
       "      <td>0.5</td>\n",
       "    </tr>\n",
       "    <tr>\n",
       "      <td>1</td>\n",
       "      <td>ID_0fbf6a978_intraparenchymal</td>\n",
       "      <td>0.5</td>\n",
       "    </tr>\n",
       "    <tr>\n",
       "      <td>2</td>\n",
       "      <td>ID_0fbf6a978_intraventricular</td>\n",
       "      <td>0.5</td>\n",
       "    </tr>\n",
       "    <tr>\n",
       "      <td>3</td>\n",
       "      <td>ID_0fbf6a978_subarachnoid</td>\n",
       "      <td>0.5</td>\n",
       "    </tr>\n",
       "    <tr>\n",
       "      <td>4</td>\n",
       "      <td>ID_0fbf6a978_subdural</td>\n",
       "      <td>0.5</td>\n",
       "    </tr>\n",
       "  </tbody>\n",
       "</table>\n",
       "</div>"
      ],
      "text/plain": [
       "                              ID  Label\n",
       "0          ID_0fbf6a978_epidural    0.5\n",
       "1  ID_0fbf6a978_intraparenchymal    0.5\n",
       "2  ID_0fbf6a978_intraventricular    0.5\n",
       "3      ID_0fbf6a978_subarachnoid    0.5\n",
       "4          ID_0fbf6a978_subdural    0.5"
      ]
     },
     "execution_count": 3,
     "metadata": {},
     "output_type": "execute_result"
    }
   ],
   "source": [
    "test_df.head()"
   ]
  },
  {
   "cell_type": "code",
   "execution_count": 4,
   "metadata": {},
   "outputs": [],
   "source": [
    "test_set = TestDataset(test_dir,test_df)\n",
    "test_set_tta = TestDataset(test_dir, test_df, TTA=True)"
   ]
  },
  {
   "cell_type": "code",
   "execution_count": 5,
   "metadata": {},
   "outputs": [],
   "source": [
    "test_loader = DataLoader(\n",
    "    test_set,\n",
    "    batch_size=2,\n",
    "    num_workers=4,\n",
    "    pin_memory=True,\n",
    ")\n",
    "test_tta_loader = DataLoader(\n",
    "    test_set_tta,\n",
    "    batch_size=2,\n",
    "    num_workers=4,\n",
    "    pin_memory=True,\n",
    ")"
   ]
  },
  {
   "cell_type": "code",
   "execution_count": 6,
   "metadata": {},
   "outputs": [],
   "source": [
    "val_batch_size = 2\n",
    "df = pd.read_csv('train.csv')\n",
    "train_dir = './data/train512/'\n",
    "\n",
    "_, val_df = train_test_split(df, test_size=0.1)\n",
    "\n",
    "val_set = RSNADataset(val_df,train_dir,make_transforms('val'))\n",
    "\n",
    "val_loader = DataLoader(\n",
    "    val_set,\n",
    "    batch_size=val_batch_size,\n",
    "    num_workers=4,\n",
    "    pin_memory=True\n",
    ")"
   ]
  },
  {
   "cell_type": "code",
   "execution_count": 7,
   "metadata": {},
   "outputs": [
    {
     "name": "stdout",
     "output_type": "stream",
     "text": [
      "Loaded pretrained weights for efficientnet-b4\n"
     ]
    },
    {
     "data": {
      "text/plain": [
       "<All keys matched successfully>"
      ]
     },
     "execution_count": 7,
     "metadata": {},
     "output_type": "execute_result"
    }
   ],
   "source": [
    "model = EfficientNet.from_pretrained('efficientnet-b4',num_classes=6)\n",
    "#num_classes = 6\n",
    "#model = models.inception_v3(pretrained=True, aux_logits=False)\n",
    "#model.fc = torch.nn.Linear(2048, num_classes)\n",
    "model = model.cuda()\n",
    "model.eval()\n",
    "ckpt_path = \"/home/pengbo/project/RSNA/efficientnet-b4/fold-1/models/epoch_5.pth.tar\"\n",
    "device = torch.device(\"cuda:0\")\n",
    "state = torch.load(ckpt_path, map_location=lambda storage, loc: storage)\n",
    "model.load_state_dict(state[\"state_dict\"])"
   ]
  },
  {
   "cell_type": "code",
   "execution_count": 8,
   "metadata": {},
   "outputs": [
    {
     "name": "stderr",
     "output_type": "stream",
     "text": [
      "100%|██████████| 33713/33713 [15:44<00:00, 35.68it/s]\n"
     ]
    }
   ],
   "source": [
    "# threshold search\n",
    "\n",
    "results = []\n",
    "c_matrix = {}\n",
    "for idx, (images,targets) in tqdm(enumerate(val_loader), total=len(val_loader)):\n",
    "    logits = torch.sigmoid(model(images.cuda()))\n",
    "    for i, logit in enumerate(logits):\n",
    "        for threshold in range(61,65,1):\n",
    "            threshold /= 100\n",
    "            if '%s'%(threshold) not in c_matrix.keys():\n",
    "                c_matrix['%s'%(threshold)] = 0\n",
    "            c_matrix['%s'%(threshold)] += confusion_matrix(logit, targets[i].cuda(),threshold=threshold)[0]\n",
    "\n",
    "for threshold, matrix in c_matrix.items():\n",
    "    precision = matrix[0] / (matrix[0] + matrix[1])\n",
    "    recall = matrix[0] / (matrix[0] + matrix[2])\n",
    "    precision = precision.detach().cpu().numpy()\n",
    "    recall = recall.detach().cpu().numpy()\n",
    "    results.append([\n",
    "        threshold,\n",
    "        (1.3*precision[0] + recall[0]),\n",
    "        (1.3*precision[1] + recall[1]),\n",
    "        (1.3*precision[2] + recall[2]),\n",
    "        (1.3*precision[3] + recall[3]),\n",
    "        (1.3*precision[4] + recall[4]),\n",
    "        (1.3*precision[5] + recall[5])\n",
    "    ]\n",
    "    )\n",
    "\n",
    "output = pd.DataFrame(\n",
    "    results,\n",
    "    columns=[\n",
    "        'threshold',\n",
    "        'epidural',\n",
    "        'intraparenchymal',\n",
    "        'intraventricular',\n",
    "        'subarachnoid',\n",
    "        'subdural',\n",
    "        'any'\n",
    "    ]\n",
    ")\n"
   ]
  },
  {
   "cell_type": "code",
   "execution_count": 9,
   "metadata": {},
   "outputs": [
    {
     "data": {
      "text/html": [
       "<div>\n",
       "<style scoped>\n",
       "    .dataframe tbody tr th:only-of-type {\n",
       "        vertical-align: middle;\n",
       "    }\n",
       "\n",
       "    .dataframe tbody tr th {\n",
       "        vertical-align: top;\n",
       "    }\n",
       "\n",
       "    .dataframe thead th {\n",
       "        text-align: right;\n",
       "    }\n",
       "</style>\n",
       "<table border=\"1\" class=\"dataframe\">\n",
       "  <thead>\n",
       "    <tr style=\"text-align: right;\">\n",
       "      <th></th>\n",
       "      <th>threshold</th>\n",
       "      <th>epidural</th>\n",
       "      <th>intraparenchymal</th>\n",
       "      <th>intraventricular</th>\n",
       "      <th>subarachnoid</th>\n",
       "      <th>subdural</th>\n",
       "      <th>any</th>\n",
       "    </tr>\n",
       "  </thead>\n",
       "  <tbody>\n",
       "    <tr>\n",
       "      <td>0</td>\n",
       "      <td>0.61</td>\n",
       "      <td>1.171239</td>\n",
       "      <td>1.850551</td>\n",
       "      <td>1.869110</td>\n",
       "      <td>1.512974</td>\n",
       "      <td>1.616342</td>\n",
       "      <td>1.922814</td>\n",
       "    </tr>\n",
       "    <tr>\n",
       "      <td>1</td>\n",
       "      <td>0.62</td>\n",
       "      <td>1.183247</td>\n",
       "      <td>1.857687</td>\n",
       "      <td>1.876031</td>\n",
       "      <td>1.523588</td>\n",
       "      <td>1.606556</td>\n",
       "      <td>1.931487</td>\n",
       "    </tr>\n",
       "    <tr>\n",
       "      <td>2</td>\n",
       "      <td>0.63</td>\n",
       "      <td>1.210619</td>\n",
       "      <td>1.861192</td>\n",
       "      <td>1.887697</td>\n",
       "      <td>1.535232</td>\n",
       "      <td>1.609530</td>\n",
       "      <td>1.940677</td>\n",
       "    </tr>\n",
       "    <tr>\n",
       "      <td>3</td>\n",
       "      <td>0.64</td>\n",
       "      <td>1.226063</td>\n",
       "      <td>1.865168</td>\n",
       "      <td>1.901492</td>\n",
       "      <td>1.547648</td>\n",
       "      <td>1.599741</td>\n",
       "      <td>1.945747</td>\n",
       "    </tr>\n",
       "  </tbody>\n",
       "</table>\n",
       "</div>"
      ],
      "text/plain": [
       "  threshold  epidural  intraparenchymal  intraventricular  subarachnoid  \\\n",
       "0      0.61  1.171239          1.850551          1.869110      1.512974   \n",
       "1      0.62  1.183247          1.857687          1.876031      1.523588   \n",
       "2      0.63  1.210619          1.861192          1.887697      1.535232   \n",
       "3      0.64  1.226063          1.865168          1.901492      1.547648   \n",
       "\n",
       "   subdural       any  \n",
       "0  1.616342  1.922814  \n",
       "1  1.606556  1.931487  \n",
       "2  1.609530  1.940677  \n",
       "3  1.599741  1.945747  "
      ]
     },
     "execution_count": 9,
     "metadata": {},
     "output_type": "execute_result"
    }
   ],
   "source": [
    "output.head()"
   ]
  },
  {
   "cell_type": "code",
   "execution_count": 10,
   "metadata": {},
   "outputs": [
    {
     "name": "stdout",
     "output_type": "stream",
     "text": [
      "best thresholds for epidural:  0.64\n",
      "best thresholds for intraparenchymal:  0.64\n",
      "best thresholds for intraventricular:  0.64\n",
      "best thresholds for subarachnoid:  0.64\n",
      "best thresholds for subdural:  0.61\n",
      "best thresholds for any:  0.64\n"
     ]
    }
   ],
   "source": [
    "thresholds = []\n",
    "for cat in output.columns[1:]:\n",
    "    print('best thresholds for %s: '%(cat), float(output.iloc[np.argmax(output[cat])]['threshold']))\n",
    "    thresholds.append(float(output.iloc[np.argmax(output[cat])]['threshold']))"
   ]
  },
  {
   "cell_type": "code",
   "execution_count": 11,
   "metadata": {},
   "outputs": [
    {
     "name": "stdout",
     "output_type": "stream",
     "text": [
      "[0.64, 0.64, 0.64, 0.64, 0.61, 0.64]\n"
     ]
    }
   ],
   "source": [
    "print(thresholds)"
   ]
  },
  {
   "cell_type": "code",
   "execution_count": 8,
   "metadata": {},
   "outputs": [],
   "source": [
    "#thresholds = [0.64, 0.64, 0.64, 0.64, 0.61, 0.64]"
   ]
  },
  {
   "cell_type": "code",
   "execution_count": 12,
   "metadata": {},
   "outputs": [],
   "source": [
    "def threshold_map(logits, threshold):\n",
    "    # map logtis from threshold to 0.5\n",
    "    # ------------ 0.5 --------------------\n",
    "    # |               \\                   |\n",
    "    # ----------------threshold------------\n",
    "    x = (logits <= threshold).float() * (0.5 / threshold)\n",
    "    y = (logits > threshold).float() * (0.5 / (1 - threshold))\n",
    "    y_ = (logits > threshold).float() * (1 - 0.5 / (1 - threshold))\n",
    "    logits = (x + y) * logits + y_\n",
    "    return logits.detach().cpu().numpy()"
   ]
  },
  {
   "cell_type": "code",
   "execution_count": null,
   "metadata": {},
   "outputs": [
    {
     "name": "stderr",
     "output_type": "stream",
     "text": [
      " 44%|████▎     | 26488/60616 [23:11<29:53, 19.03it/s]"
     ]
    }
   ],
   "source": [
    "predictions = []\n",
    "for i, (batch, tta_batch) in enumerate(tqdm(zip(test_loader, test_tta_loader), total=len(test_loader))):\n",
    "    fnames, imgs = batch\n",
    "    fnames_tta, imgs_tta = tta_batch\n",
    "    preds = torch.sigmoid(model(imgs.cuda()))*0.65 + torch.sigmoid(model(imgs_tta.cuda()))*0.35\n",
    "    preds = threshold_map(preds, torch.Tensor(thresholds).cuda())\n",
    "    #preds = preds.detach().cpu().numpy()\n",
    "    for fname, pred in zip(fnames, preds):\n",
    "        predictions.append([fname, pred[0], pred[1], pred[2], pred[3], pred[4], pred[5]])"
   ]
  },
  {
   "cell_type": "code",
   "execution_count": 21,
   "metadata": {},
   "outputs": [],
   "source": [
    "df = pd.DataFrame(predictions, columns=['name', 'epidural', 'intraparenchymal', 'intraventricular', 'subarachnoid', 'subdural','any'])"
   ]
  },
  {
   "cell_type": "code",
   "execution_count": null,
   "metadata": {},
   "outputs": [],
   "source": [
    "values = []\n",
    "for i,j in df.iterrows():\n",
    "    fname = j['name'].split('.')[0]\n",
    "    values.append([fname + '_epidural',j['epidural']])\n",
    "    values.append([fname + '_intraparenchymal',j['intraparenchymal']])\n",
    "    values.append([fname + '_intraventricular', j['intraventricular']])\n",
    "    values.append([fname + '_subarachnoid', j['subarachnoid']])\n",
    "    values.append([fname + '_subdural', j['subdural']])\n",
    "    values.append([fname + '_any', j['any']])"
   ]
  },
  {
   "cell_type": "code",
   "execution_count": null,
   "metadata": {},
   "outputs": [],
   "source": [
    "res = pd.DataFrame(values, columns=['ID', 'Label'])"
   ]
  },
  {
   "cell_type": "code",
   "execution_count": null,
   "metadata": {},
   "outputs": [],
   "source": [
    "len(res)"
   ]
  },
  {
   "cell_type": "code",
   "execution_count": null,
   "metadata": {},
   "outputs": [],
   "source": [
    "res[res['Label'] > 0.5]"
   ]
  },
  {
   "cell_type": "code",
   "execution_count": null,
   "metadata": {},
   "outputs": [],
   "source": [
    "res.to_csv('./submission/submission__stage2_b4_5_4thresh_tta2.csv',index=False)"
   ]
  },
  {
   "cell_type": "code",
   "execution_count": null,
   "metadata": {},
   "outputs": [],
   "source": [
    "'''import pandas as pd\n",
    "a = pd.read_csv('submission.csv')\n",
    "a.head()\n",
    "b = np.array(a['Label'])\n",
    "b = b.astype(np.float)\n",
    "b[b>0.8] = 0.99\n",
    "b[b<0.2] = 0.000001\n",
    "c = pd.DataFrame(b,columns=['Label_'])\n",
    "d = pd.concat([a,c],axis=1)\n",
    "d = d.drop(['Label'],axis=1)\n",
    "d.columns = ['ID', 'Label']\n",
    "d.head()\n",
    "d.to_csv('submission.csv',index=False)'''"
   ]
  },
  {
   "cell_type": "code",
   "execution_count": 8,
   "metadata": {},
   "outputs": [
    {
     "name": "stderr",
     "output_type": "stream",
     "text": [
      "100%|██████████| 727392/727392 [05:36<00:00, 2163.33it/s]\n"
     ]
    }
   ],
   "source": [
    "# Average Ensemble\n",
    "a = pd.read_csv('./submission/submission__stage2_b0_5_4thresh_tta2.csv')\n",
    "b = pd.read_csv('./submission/submission__stage2_b1_5_4thresh_tta2.csv')\n",
    "#c = pd.read_csv('./submission/submission__stage2_b2_5_4thresh_tta2.csv')\n",
    "d = pd.read_csv('./submission/submission__stage2_b3_5_4thresh_tta2.csv')\n",
    "#e = pd.read_csv('./submission/submission__stage2_b4_5_4thresh_tta2.csv')\n",
    "f = pd.read_csv('./submission/submission__stage2_inv3_6_tta2.csv')\n",
    "#g = pd.read_csv('./submission/submission__stage2_rn34_5_4thresh_tta2.csv')\n",
    "\n",
    "result = [] \n",
    "for i in tqdm(range(len(a))):\n",
    "    res = (a.iloc[i]['Label'] + b.iloc[i]['Label'] + 1.5*d.iloc[i]['Label'] + 0.5*f.iloc[i]['Label']) / 4\n",
    "    result.append(res)\n",
    "    \n",
    "res = pd.concat([a,pd.DataFrame(result, columns=['Label_'])],1)\n",
    "res = res.drop('Label',axis=1)\n",
    "res.rename(columns={\"Label_\": \"Label\"}).to_csv('submission/submission_stage2_ensemble_final2.csv',index=False)\n"
   ]
  },
  {
   "cell_type": "code",
   "execution_count": 3,
   "metadata": {},
   "outputs": [
    {
     "name": "stdout",
     "output_type": "stream",
     "text": [
      "1\n"
     ]
    }
   ],
   "source": [
    "print(1)"
   ]
  },
  {
   "cell_type": "code",
   "execution_count": 9,
   "metadata": {},
   "outputs": [
    {
     "name": "stdout",
     "output_type": "stream",
     "text": [
      "100%|██████████████████████████████████████| 32.1M/32.1M [00:13<00:00, 2.50MB/s]\n",
      "Successfully submitted to RSNA Intracranial Hemorrhage Detection"
     ]
    }
   ],
   "source": [
    "!kaggle competitions submit -c rsna-intracranial-hemorrhage-detection -f ./submission/submission_stage2_ensemble_final2.csv -m \"new final\""
   ]
  },
  {
   "cell_type": "code",
   "execution_count": null,
   "metadata": {},
   "outputs": [],
   "source": []
  }
 ],
 "metadata": {
  "kernelspec": {
   "display_name": "kaggle",
   "language": "python",
   "name": "kaggle"
  },
  "language_info": {
   "codemirror_mode": {
    "name": "ipython",
    "version": 3
   },
   "file_extension": ".py",
   "mimetype": "text/x-python",
   "name": "python",
   "nbconvert_exporter": "python",
   "pygments_lexer": "ipython3",
   "version": "3.7.4"
  }
 },
 "nbformat": 4,
 "nbformat_minor": 4
}
