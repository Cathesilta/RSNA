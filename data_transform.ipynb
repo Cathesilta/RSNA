{
 "cells": [
  {
   "cell_type": "code",
   "execution_count": 7,
   "metadata": {},
   "outputs": [],
   "source": [
    "# The following script was used to generate the images in this dataset\n",
    "# Note that a small number of images failed due to issues with the pixel data\n",
    "\n",
    "# Directories\n",
    "\n",
    "dir_dcm = './stage2/stage_2_train_images/'\n",
    "dir_img = './stage2/train512/'\n",
    "\n",
    "# Libraries\n",
    "\n",
    "import os\n",
    "import pydicom\n",
    "import cv2\n",
    "import glob\n",
    "import multiprocessing as mp\n",
    "import numpy as np\n",
    "from tqdm import tqdm\n",
    "\n",
    "# Functions\n",
    "\n",
    "def window_image(img, window_center, window_width, intercept, slope):\n",
    "    \"\"\"\n",
    "    https://www.kaggle.com/omission/eda-view-dicom-images-with-correct-windowing\n",
    "    \"\"\"\n",
    "    img = (img * slope + intercept)\n",
    "    img_min = window_center - window_width // 2\n",
    "    img_max = window_center + window_width // 2\n",
    "    img[img < img_min] = img_min\n",
    "    img[img > img_max] = img_max\n",
    "\n",
    "    return img\n",
    "\n",
    "\n",
    "def get_first_of_dicom_field_as_int(x):\n",
    "    \"\"\"\n",
    "    https://www.kaggle.com/omission/eda-view-dicom-images-with-correct-windowing\n",
    "    \"\"\"\n",
    "    # get x[0] as in int is x is a 'pydicom.multival.MultiValue', otherwise get int(x)\n",
    "    if type(x) == pydicom.multival.MultiValue:\n",
    "        return int(x[0])\n",
    "    else:\n",
    "        return int(x)\n",
    "\n",
    "\n",
    "def get_windowing(data):\n",
    "    \"\"\"\n",
    "    https://www.kaggle.com/omission/eda-view-dicom-images-with-correct-windowing\n",
    "    \"\"\"\n",
    "    dicom_fields = [data[('0028', '1050')].value,  # window center\n",
    "                    data[('0028', '1051')].value,  # window width\n",
    "                    data[('0028', '1052')].value,  # intercept\n",
    "                    data[('0028', '1053')].value]  # slope\n",
    "    return [get_first_of_dicom_field_as_int(x) for x in dicom_fields]\n",
    "\n",
    "def convert_to_png(dcm_in):\n",
    "\n",
    "    dcm = pydicom.dcmread(dcm_in)\n",
    "    window_center, window_width, intercept, slope = get_windowing(dcm)\n",
    "\n",
    "    img = pydicom.read_file(dcm_in).pixel_array\n",
    "    img = window_image(img, window_center, window_width, intercept, slope)\n",
    "    cv2.imwrite(os.path.join(dir_img, os.path.basename(dcm_in)[:-3] + 'png'), img)\n",
    "\n"
   ]
  },
  {
   "cell_type": "code",
   "execution_count": 2,
   "metadata": {},
   "outputs": [],
   "source": [
    "lineList = [line.rstrip('\\n') for line in open('missing.txt','r')]"
   ]
  },
  {
   "cell_type": "code",
   "execution_count": 8,
   "metadata": {},
   "outputs": [
    {
     "name": "stdout",
     "output_type": "stream",
     "text": [
      "./stage2/stage_2_train_images/ID_6431af929.dcm\n"
     ]
    }
   ],
   "source": [
    "for i in res1:\n",
    "    try:\n",
    "        convert_to_png(i)\n",
    "    except:\n",
    "        print(i)"
   ]
  },
  {
   "cell_type": "code",
   "execution_count": 1,
   "metadata": {},
   "outputs": [
    {
     "ename": "NameError",
     "evalue": "name 'mp' is not defined",
     "output_type": "error",
     "traceback": [
      "\u001b[0;31m---------------------------------------------------------------------------\u001b[0m",
      "\u001b[0;31mNameError\u001b[0m                                 Traceback (most recent call last)",
      "\u001b[0;32m<ipython-input-1-074c67cb5d41>\u001b[0m in \u001b[0;36m<module>\u001b[0;34m\u001b[0m\n\u001b[1;32m      3\u001b[0m \u001b[0;31m#dicom = glob.glob(os.path.join(dir_dcm, '*.dcm'))\u001b[0m\u001b[0;34m\u001b[0m\u001b[0;34m\u001b[0m\u001b[0;34m\u001b[0m\u001b[0m\n\u001b[1;32m      4\u001b[0m \u001b[0;34m\u001b[0m\u001b[0m\n\u001b[0;32m----> 5\u001b[0;31m \u001b[0mpool\u001b[0m \u001b[0;34m=\u001b[0m \u001b[0mmp\u001b[0m\u001b[0;34m.\u001b[0m\u001b[0mPool\u001b[0m\u001b[0;34m(\u001b[0m\u001b[0mmp\u001b[0m\u001b[0;34m.\u001b[0m\u001b[0mcpu_count\u001b[0m\u001b[0;34m(\u001b[0m\u001b[0;34m)\u001b[0m\u001b[0;34m)\u001b[0m\u001b[0;34m\u001b[0m\u001b[0;34m\u001b[0m\u001b[0m\n\u001b[0m\u001b[1;32m      6\u001b[0m \u001b[0mpool\u001b[0m\u001b[0;34m.\u001b[0m\u001b[0mmap\u001b[0m\u001b[0;34m(\u001b[0m\u001b[0mconvert_to_png\u001b[0m\u001b[0;34m,\u001b[0m \u001b[0mres1\u001b[0m\u001b[0;34m)\u001b[0m\u001b[0;34m\u001b[0m\u001b[0;34m\u001b[0m\u001b[0m\n\u001b[1;32m      7\u001b[0m \u001b[0mpool\u001b[0m\u001b[0;34m.\u001b[0m\u001b[0mclose\u001b[0m\u001b[0;34m(\u001b[0m\u001b[0;34m)\u001b[0m\u001b[0;34m\u001b[0m\u001b[0;34m\u001b[0m\u001b[0m\n",
      "\u001b[0;31mNameError\u001b[0m: name 'mp' is not defined"
     ]
    }
   ],
   "source": [
    "# Extract images in parallel\n",
    "\n",
    "#dicom = glob.glob(os.path.join(dir_dcm, '*.dcm'))\n",
    "\n",
    "pool = mp.Pool(mp.cpu_count())\n",
    "pool.map(convert_to_png, res1)\n",
    "pool.close()"
   ]
  },
  {
   "cell_type": "code",
   "execution_count": 3,
   "metadata": {},
   "outputs": [],
   "source": [
    "lineList = [line.rstrip('\\n') for line in open('missing.txt','r')]\n",
    "f = lambda x: x.replace('.png','.dcm')\n",
    "res = [f(i) for i in lineList]"
   ]
  },
  {
   "cell_type": "code",
   "execution_count": 4,
   "metadata": {},
   "outputs": [],
   "source": [
    "res1 = []\n",
    "for i in res:\n",
    "    res1.append('./stage2/stage_2_train_images/'+i)"
   ]
  },
  {
   "cell_type": "code",
   "execution_count": null,
   "metadata": {},
   "outputs": [],
   "source": []
  }
 ],
 "metadata": {
  "kernelspec": {
   "display_name": "kaggle",
   "language": "python",
   "name": "kaggle"
  },
  "language_info": {
   "codemirror_mode": {
    "name": "ipython",
    "version": 3
   },
   "file_extension": ".py",
   "mimetype": "text/x-python",
   "name": "python",
   "nbconvert_exporter": "python",
   "pygments_lexer": "ipython3",
   "version": "3.7.4"
  }
 },
 "nbformat": 4,
 "nbformat_minor": 4
}
